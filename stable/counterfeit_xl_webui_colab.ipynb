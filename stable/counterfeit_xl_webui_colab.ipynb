{
  "cells": [
    {
      "cell_type": "code",
      "execution_count": null,
      "metadata": {},
      "outputs": [],
      "source": [
        "#@markdown ## 구글드라이브 연동\n",
        "#@markdown **생성한 이미지를 구글드라이브에 자동저장하려면 체크해주세요**\n",
        "Google_Drive = False #@param {type:\"boolean\"}\n",
        "\n",
        "#@markdown **한글 번역**\n",
        "Ko_Language = False #@param {type:\"boolean\"}\n",
        "\n",
        "#@markdown **Mask 이미지 업로드기능**\n",
        "Mask_Enhance = False #@param {type:\"boolean\"}\n",
        "\n",
        "#@markdown -----\n",
        "#@markdown **구글드라이브 연동폴더**\n",
        "#@markdown * fooocus/outputs : 생성된 이미지들이 저장되요\n",
        "#@markdown * fooocus/loras : 로라(LoRA)를 넣어주면 읽어올수 있어요\n",
        "#@markdown * fooocus/embeddings : 임베딩(Textual Inversion)를 넣어주면 읽어올수 있어요\n",
        "\n",
        "#@markdown **체크포인트 URL**\n",
        "Checkpoint_Url = 'https://civitai.com/api/download/models/146761?type=Model&format=SafeTensor&size=pruned&fp=fp16' #@param {type:\"string\"}\n",
        "#@markdown **체크포인트 파일명**\n",
        "Checkpoint_Filename = 'counterfeit_xl.safetensors' #@param {type:\"string\"}\n",
        "Preset = '#template_preset#'\n",
        "DefaultJSON = 'anime'\n",
        "\n",
        "Workspace = 'fooocus'\n",
        "GoogleHomePath = f'/content/drive/MyDrive/{Workspace}'\n",
        "HomePath = '/content/Fooocus'\n",
        "\n",
        "PRESET_PARAM = \"\"\n",
        "LANGUAGE_PARAM = \"\"\n",
        "\n",
        "if Google_Drive:\n",
        "  from google.colab import drive\n",
        "  drive.mount('/content/drive')\n",
        "\n",
        "!pip install pygit2==1.12.2\n",
        "%cd /content\n",
        "if not Mask_Enhance:\n",
        "  !git clone https://github.com/lllyasviel/Fooocus.git {HomePath}\n",
        "else:\n",
        "  !git clone -b Fooocus_mask_enhance https://github.com/xhoxye/Fooocus-up_mask {HomePath}\n",
        "\n",
        "if Google_Drive:\n",
        "  !mkdir {GoogleHomePath}\n",
        "  !mkdir {GoogleHomePath}/loras\n",
        "  !mkdir {GoogleHomePath}/upscale_models\n",
        "  !mkdir {GoogleHomePath}/embeddings\n",
        "  !mkdir {GoogleHomePath}/outputs\n",
        "  !wget https://raw.githubusercontent.com/ninjaneural/fooocus/master/misc/config.txt -O {HomePath}/config.txt\n",
        "\n",
        "if Ko_Language:\n",
        "  !wget https://raw.githubusercontent.com/ninjaneural/fooocus/master/misc/ko.json -O {HomePath}/language/ko.json\n",
        "  LANGUAGE_PARAM = '--language ko'\n",
        "\n",
        "if Preset:\n",
        "  PRESET_PARAM = f'--preset {Preset}'\n",
        "else:\n",
        "  PRESET_PARAM = f'--preset colab'\n",
        "  !wget https://raw.githubusercontent.com/ninjaneural/fooocus/master/misc/{DefaultJSON}.json -O {HomePath}/presets/colab.json\n",
        "  !sed {GoogleHomePath}/colab.json\n",
        "  !sed -i -e \"s/#Checkpoint_Url#/{Checkpoint_Url}/\" {HomePath}/presets/colab.json\n",
        "  !sed -i -e \"s/#Checkpoint_Filename#/{Checkpoint_Filename}/\" {HomePath}/presets/colab.json\n",
        "\n",
        "\n",
        "%cd /content/Fooocus\n",
        "!python entry_with_update.py --share {LANGUAGE_PARAM} {PRESET_PARAM}\n",
        "\n"
      ]
    }
  ],
  "metadata": {
    "accelerator": "GPU",
    "colab": {
      "collapsed_sections": [],
      "private_outputs": true,
      "provenance": []
    },
    "gpuClass": "standard",
    "kernelspec": {
      "display_name": "Python 3",
      "language": "python",
      "name": "python3"
    },
    "language_info": {
      "name": "python",
      "version": "3.10.11"
    },
    "vscode": {
      "interpreter": {
        "hash": "32c23ec9c124fdbef417fa7c12f036622d7e14abb755fc2527a38410604ea1a4"
      }
    }
  },
  "nbformat": 4,
  "nbformat_minor": 0
}
